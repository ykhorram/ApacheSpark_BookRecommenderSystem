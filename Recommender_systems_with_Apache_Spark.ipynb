{
 "cells": [
  {
   "cell_type": "markdown",
   "metadata": {
    "_uuid": "e00e79686af8a3a3c251978bf319a2bf5b0cb3da"
   },
   "source": [
    "# Recommender systems:\n",
    "\n",
    "are a subclass of information filtering system that seeks to predict the \"rating\" or \"preference\" that a user would give to an item. The netflix prize is one of the most well-known challenges, that fuelled research and development of new algorithms in these area. \n",
    "\n",
    "In this notebook, I'm implementing two of the main approaches to build recommender systems, namely the Memory based and model based collaborative filterings. So content is oganized as follows:\n",
    "\n",
    "1. A brief __EDA__, focusing on users' rating behavior\n",
    "2. __Memory based collaborative filtering__\n",
    "   - Introducing Item-based ( and hint for User-based collaborative filtering)\n",
    "3. __Model-based collaborative filtering__ using __matrix factorization__\n",
    "   - SVD dimentionality reduction\n",
    "   - __Alternating Least Square__ ( implemented in __Spark__)\n"
   ]
  },
  {
   "cell_type": "markdown",
   "metadata": {
    "_uuid": "2598a038421ea31ec040b31e28b24fd6df8f2dfe"
   },
   "source": [
    "Strat by importing basic modules"
   ]
  },
  {
   "cell_type": "code",
   "execution_count": null,
   "metadata": {
    "_uuid": "6a65683ec1c919251d4750cab7edbffcf8139c21"
   },
   "outputs": [],
   "source": [
    "%pylab inline\n",
    "import numpy as np\n",
    "import pandas as pd\n",
    "import seaborn as sns\n",
    "sns.set(context='notebook', style='whitegrid', palette='deep', font='sans-serif',\\\n",
    "        font_scale=1.5, color_codes=False, rc=None )"
   ]
  },
  {
   "cell_type": "code",
   "execution_count": null,
   "metadata": {
    "_uuid": "3fbdec54e8287932bc9b92e2c4fd745936034f0e",
    "collapsed": true
   },
   "outputs": [],
   "source": [
    "''' \n",
    "Reading in the rating dataframe\n",
    "'''\n",
    "df_rates = pd.read_csv('./input/ratings.csv')"
   ]
  },
  {
   "cell_type": "code",
   "execution_count": 3,
   "metadata": {
    "_uuid": "c407b7e2018e52a066886af28c5c606787b0144b"
   },
   "outputs": [
    {
     "data": {
      "text/html": [
       "<div>\n",
       "<style>\n",
       "    .dataframe thead tr:only-child th {\n",
       "        text-align: right;\n",
       "    }\n",
       "\n",
       "    .dataframe thead th {\n",
       "        text-align: left;\n",
       "    }\n",
       "\n",
       "    .dataframe tbody tr th {\n",
       "        vertical-align: top;\n",
       "    }\n",
       "</style>\n",
       "<table border=\"1\" class=\"dataframe\">\n",
       "  <thead>\n",
       "    <tr style=\"text-align: right;\">\n",
       "      <th></th>\n",
       "      <th>book_id</th>\n",
       "      <th>user_id</th>\n",
       "      <th>rating</th>\n",
       "    </tr>\n",
       "  </thead>\n",
       "  <tbody>\n",
       "    <tr>\n",
       "      <th>0</th>\n",
       "      <td>1</td>\n",
       "      <td>314</td>\n",
       "      <td>5</td>\n",
       "    </tr>\n",
       "    <tr>\n",
       "      <th>1</th>\n",
       "      <td>1</td>\n",
       "      <td>439</td>\n",
       "      <td>3</td>\n",
       "    </tr>\n",
       "  </tbody>\n",
       "</table>\n",
       "</div>"
      ],
      "text/plain": [
       "   book_id  user_id  rating\n",
       "0        1      314       5\n",
       "1        1      439       3"
      ]
     },
     "execution_count": 3,
     "metadata": {},
     "output_type": "execute_result"
    }
   ],
   "source": [
    "df_rates.head(2)"
   ]
  },
  {
   "cell_type": "markdown",
   "metadata": {
    "_uuid": "95b2d87b9e6adedb4980399c05cf78a444dbbc6a"
   },
   "source": [
    "![](http://)"
   ]
  },
  {
   "cell_type": "markdown",
   "metadata": {
    "_uuid": "bea5ba10cceb31acbcaef0d377603fb79e4ba521"
   },
   "source": [
    "Dataframe contains, 3 columns. Next we'll look at the number of user and book ids:"
   ]
  },
  {
   "cell_type": "code",
   "execution_count": 4,
   "metadata": {
    "_uuid": "4d9316f56e822674202a785200c348ee06ef461c"
   },
   "outputs": [
    {
     "name": "stdout",
     "output_type": "stream",
     "text": [
      "53424 users has rated of 10000 unique books.\n"
     ]
    }
   ],
   "source": [
    "n_users = df_rates.user_id.unique().shape[0]\n",
    "n_items = df_rates.book_id.unique().shape[0]\n",
    "\n",
    "print('%s users has rated of %s unique books.'%(str(n_users), str(n_items)))"
   ]
  },
  {
   "cell_type": "markdown",
   "metadata": {
    "_uuid": "4a1477c9ac4543ddc43f3fe593e19ca7e513c05f"
   },
   "source": [
    "## Only choosing a subset of users and books to reduce computational time.\n",
    "Randomly choose a subset of the 2d array\n"
   ]
  },
  {
   "cell_type": "code",
   "execution_count": 5,
   "metadata": {
    "_uuid": "c05fca0b0fc14408f5819c1d95870a54546c5f4f"
   },
   "outputs": [
    {
     "name": "stdout",
     "output_type": "stream",
     "text": [
      "The selected subset of rating includs 20460 users and 6303 books.\n"
     ]
    }
   ],
   "source": [
    "idx1 = np.random.randint(n_users, size=int0(n_users/2))\n",
    "idx2= np.random.randint(n_items, size= n_items)\n",
    "\n",
    "subdf_rates = df_rates[(df_rates['user_id'].isin(idx1)) & (df_rates['book_id'].isin(idx2))]\n",
    "\n",
    "n_sub_u = subdf_rates.user_id.unique().shape[0]\n",
    "n_sub_i = subdf_rates.book_id.unique().shape[0]\n",
    "print('The selected subset of rating includs %s users and %s books.'%(n_sub_u, n_sub_i))"
   ]
  },
  {
   "cell_type": "markdown",
   "metadata": {
    "_uuid": "fb0d1e78a9b4eb2ef02fcac8d28d3986545ee781"
   },
   "source": [
    "# Distribution of the average ratings per user and per book\n"
   ]
  },
  {
   "cell_type": "code",
   "execution_count": 6,
   "metadata": {
    "_uuid": "10427a599c7ef54b323a956b6f0d8b207ade1398"
   },
   "outputs": [
    {
     "data": {
      "image/png": "[encoded data removed]",
      "text/plain": [
       "<matplotlib.figure.Figure at 0x102fdb610>"
      ]
     },
     "metadata": {},
     "output_type": "display_data"
    }
   ],
   "source": [
    "f, (ax1, ax2) = plt.subplots(1,2, figsize=(12,4))\n",
    "subplots_adjust(wspace=1)\n",
    "g1 = subdf_rates.groupby('user_id')['rating'].mean()\n",
    "g1 = subdf_rates.groupby('user_id', as_index=False)[['user_id', 'rating']].mean()\n",
    "\n",
    "sns.distplot(g1.rating, bins =10, kde=False, color='b', ax=ax1);\n",
    "ax1.set_ylabel(\"User\\n average rateing\")\n",
    "ax1.grid(0)\n",
    "\n",
    "g2 = df_rates.groupby('book_id', as_index=False)[['book_id', 'rating']].mean()\n",
    "sns.distplot(g2.rating, bins =10, kde=False, color='r', ax=ax2);\n",
    "ax2.set_ylabel(\"Books\\n average rateing\")\n",
    "sns.despine(trim=True)\n",
    "ax2.grid(0)"
   ]
  },
  {
   "cell_type": "markdown",
   "metadata": {
    "_uuid": "c1bcbef970a9548b4a1352ebdb4af913912a2379"
   },
   "source": [
    "- Most books are mostly rated above 3, with a peak around 4.\n",
    "- Most users are rating on average 3 and more."
   ]
  },
  {
   "cell_type": "markdown",
   "metadata": {
    "_uuid": "9e9657d60ee9123af6b6a095269829ef4e143f8f"
   },
   "source": [
    "# Distribution of the number of ratings per books"
   ]
  },
  {
   "cell_type": "code",
   "execution_count": 7,
   "metadata": {
    "_uuid": "7e6cff421b46a740aaae51b8a2a498562d85b834"
   },
   "outputs": [
    {
     "data": {
      "image/png": "[encoded data removed]",
      "text/plain": [
       "<matplotlib.figure.Figure at 0x10e6b9050>"
      ]
     },
     "metadata": {},
     "output_type": "display_data"
    }
   ],
   "source": [
    "f, (ax1, ax2) = plt.subplots(1,2, figsize=(14,3))\n",
    "subplots_adjust(wspace=1)\n",
    "\n",
    "plt.suptitle(\"Number of book rateings\", fontsize=22)\n",
    "\n",
    "vals = list(dict(df_rates['book_id'].value_counts()).values())\n",
    "sns.distplot(vals, bins =10, kde=False, color='blue',ax=ax1);\n",
    "ax1.set_ylabel(\"Book counts\", labelpad=40)\n",
    "\n",
    "sns.despine(left=True, top=True, bottom=False, right=False)\n",
    "\n",
    "ax1.grid(0)\n",
    "\n",
    "sns.distplot(vals, bins =10, kde=False, color='blue',ax=ax2);\n",
    "ax2.set_yscale('log')\n",
    "\n",
    "ax2.set_ylabel(\"Book counts(log)\", labelpad=40)\n",
    "ax2.set_frame_on(1)\n",
    "ax2.grid(0)"
   ]
  },
  {
   "cell_type": "markdown",
   "metadata": {
    "_uuid": "3ee61bc889bda97331923b013472fd2c5499fd06"
   },
   "source": [
    "# Distribution of the number of ratings per user"
   ]
  },
  {
   "cell_type": "code",
   "execution_count": 8,
   "metadata": {
    "_uuid": "6e1818a41d5337e88e87d96ddc15457f5b6e43b4"
   },
   "outputs": [
    {
     "data": {
      "image/png": "[encoded data removed]",
      "text/plain": [
       "<matplotlib.figure.Figure at 0x104422910>"
      ]
     },
     "metadata": {},
     "output_type": "display_data"
    }
   ],
   "source": [
    "f, (ax1, ax2) = plt.subplots(1,2, figsize=(12,3))\n",
    "subplots_adjust(wspace=1)\n",
    "\n",
    "plt.suptitle(\"Number of Users' rateings\", fontsize=22)\n",
    "vals = list(dict(df_rates['user_id'].value_counts()).values())\n",
    "\n",
    "sns.distplot(vals, bins =10, kde=False, color='r', ax=ax1);\n",
    "ax1.set_ylabel(\"Book counts\", labelpad=40)\n",
    "sns.despine(left=False, top=True, bottom=False, right=True)\n",
    "\n",
    "ax1.grid(0)\n",
    "\n",
    "sns.distplot(vals, bins =10, kde=False, color='r', ax=ax2);\n",
    "ax2.set_ylabel(\"Book counts\", labelpad=40)\n",
    "ax2.set_yscale('log')\n",
    "\n",
    "ax2.grid(0)\n"
   ]
  },
  {
   "cell_type": "markdown",
   "metadata": {
    "_uuid": "8d5d661d2341fca78d624bb9c0a4258b10b3095d"
   },
   "source": [
    "# EDA Conclusion and take-home messages:\n",
    "    \n",
    "- Books are mostly rated high. >3 with an average around 4.\n",
    "   \n",
    "- Users have mostly ranked between 3 and 5, a shorter tail around 5 and longer for ratings <3. This observationis consistant with the previous ones, as the whole pool of rating is the same and the difference in distribution, indicates the individualist differences of users' behavior, i.e., some are harder to satisfy than others.\n",
    "   \n",
    "- Many books ( order of $10^4$ ) recieve > 100 ratings and there are a few books with less than 50 ratings. But the distribution is different for users, where they mostly rated <10 books and there is a smaller fraction who has rated more than 100."
   ]
  },
  {
   "cell_type": "markdown",
   "metadata": {
    "_uuid": "2f981b29aedceb6258eb988688539875744f3433"
   },
   "source": [
    "# Collaborative Filtering (CF)"
   ]
  },
  {
   "cell_type": "markdown",
   "metadata": {
    "_uuid": "b7aef3c1e6732ec89055c34af47def34b7fdc508"
   },
   "source": [
    "In  one version of CF called __user-based CF__, we find user x who shares the interest on item $i_1$ and $i_2$ with you then if x likes item $i_3$, it's more likely that you're gonna like that item as well. In ML language, we find the similarities between two users based on a set of features, which in this case happens to be their rating behavior. (In fact a different variant of the Recommender systems called __ content-based Recommendation__ uses the meta-data for each book as its feature vector.)  \n",
    "\n",
    "Same logic applies for the other simple form of CF, named the item-based collaborative filtering, where items similarity is assess based on they ranking’s they receive. \n",
    "\n",
    "The starting point in both these methods is to build a user-item matrix A, where element $A_{i,j}$ is the rating that user $i$ gave to item $j$. From here building the user-user and item-item similarity matrices is just to find the similarity of every pair of users, using some pairwise similarity metric. I will be using cosine-similarity in this notebook."
   ]
  },
  {
   "cell_type": "markdown",
   "metadata": {
    "_uuid": "4dcaca29608d55ccd10710fa1d93ff4dc771544c"
   },
   "source": [
    "# Train/Test split for evaluation"
   ]
  },
  {
   "cell_type": "code",
   "execution_count": 9,
   "metadata": {
    "_uuid": "8d4a079f644627e5ed7cf2194501db074ff054c8",
    "collapsed": true
   },
   "outputs": [],
   "source": [
    "from sklearn import model_selection\n",
    "train_data, test_data = model_selection.train_test_split(subdf_rates, test_size=0.25, random_state=42)\n",
    "\n",
    "train_idx = train_data.index\n",
    "test_idx = test_data.index"
   ]
  },
  {
   "cell_type": "code",
   "execution_count": 10,
   "metadata": {
    "_uuid": "b1ed81f6f85631db1d33390121cba8397571af81"
   },
   "outputs": [
    {
     "name": "stdout",
     "output_type": "stream",
     "text": [
      "Min indices for user_id and item_id are 1 and 1 respectively.\n"
     ]
    }
   ],
   "source": [
    "''' \n",
    "To build the rating matrix using a numpy array the indices need to start from zero\n",
    "'''\n",
    "print(\"Min indices for user_id and item_id are %s and %s respectively.\"\\\n",
    "      %(df_rates.user_id.min(), df_rates.book_id.min()))\n",
    "\n",
    "train_data_matrix0 = np.zeros((n_users, n_items))\n",
    "test_data_matrix0 = np.zeros((n_users, n_items))\n",
    "\n",
    "for line in subdf_rates.itertuples():\n",
    "    if line.Index in train_idx:\n",
    "        train_data_matrix0[line[2]-1, line[1]-1] = line[3]\n",
    "    else: \n",
    "        test_data_matrix0[line[2]-1, line[1]-1] = line[3]"
   ]
  },
  {
   "cell_type": "code",
   "execution_count": 11,
   "metadata": {
    "_uuid": "b17a69a6ae3588722364ab4621dbf215865e9ce5",
    "collapsed": true
   },
   "outputs": [],
   "source": [
    "train_data_matrix = train_data_matrix0[~np.all(train_data_matrix0 == 0, axis=1)]\n",
    "test_data_matrix = test_data_matrix0[~np.all(test_data_matrix0 == 0, axis=1)]"
   ]
  },
  {
   "cell_type": "code",
   "execution_count": 12,
   "metadata": {
    "_uuid": "ce09501bcf26b3b9bcd29887526f07fc316f36e5"
   },
   "outputs": [
    {
     "data": {
      "text/plain": [
       "(19641, 10000)"
      ]
     },
     "execution_count": 12,
     "metadata": {},
     "output_type": "execute_result"
    }
   ],
   "source": [
    "''' Have a look at the shape of the reaing matrix'''\n",
    "train_data_matrix.shape"
   ]
  },
  {
   "cell_type": "markdown",
   "metadata": {
    "_uuid": "906a241a152901c77caef4c845202be3bcad9114"
   },
   "source": [
    "The resulting matrix is very sparse, since the possible combination of user-item ratings requires each user to rate around 10000 books. Let's compute the sparsity:"
   ]
  },
  {
   "cell_type": "code",
   "execution_count": 13,
   "metadata": {
    "_uuid": "3eb00b83e5bf61567ab5ea12a9289c26a936e3ee"
   },
   "outputs": [
    {
     "name": "stdout",
     "output_type": "stream",
     "text": [
      "Sparsity: 0.09%\n"
     ]
    }
   ],
   "source": [
    "sparsity = int0(train_data_matrix>0).sum()\n",
    "sparsity /= float(np.prod(train_data_matrix.shape))\n",
    "sparsity *= 100\n",
    "print('Sparsity: {:4.2f}%'.format(sparsity))"
   ]
  },
  {
   "cell_type": "markdown",
   "metadata": {
    "_uuid": "fa6d012da99c33805872ffabe4605126abd03502"
   },
   "source": [
    "Only 0.02 % of the possible combinations of user-ratings exit.  \n",
    "\n",
    "Scipy sparse module provides makes computations on sparse matrices very efficiect. Let's have a look at the performance difference between dense and the sparse matrix."
   ]
  },
  {
   "cell_type": "code",
   "execution_count": 14,
   "metadata": {
    "_uuid": "e3378127b7731cdeb8af0b124b5c5b349b00f742",
    "collapsed": true
   },
   "outputs": [],
   "source": [
    "from sklearn.metrics.pairwise import cosine_similarity\n",
    "from scipy import sparse as sp\n",
    "import time"
   ]
  },
  {
   "cell_type": "code",
   "execution_count": 15,
   "metadata": {
    "_uuid": "5c8ee411617be941243aeb31e0abd7cc5b29fef5"
   },
   "outputs": [
    {
     "name": "stdout",
     "output_type": "stream",
     "text": [
      "--- 0.175879001617 seconds for sparse implementation ---\n",
      "--- 4.26717591286 seconds for dense implementation ---\n"
     ]
    }
   ],
   "source": [
    "sub_mat = train_data_matrix[:10000,:1000]\n",
    "\n",
    "st = time.time()\n",
    "A_sparse = sp.csr_matrix(sub_mat)\n",
    "similarities = cosine_similarity(A_sparse)\n",
    "print(\"--- %s seconds for sparse implementation ---\" %(time.time()-st))\n",
    "\n",
    "\n",
    "st = time.time()\n",
    "similarity = cosine_similarity(sub_mat)\n",
    "print(\"--- %s seconds for dense implementation ---\" %(time.time()-st))"
   ]
  },
  {
   "cell_type": "markdown",
   "metadata": {
    "_uuid": "7d93e2b79f08f3b02fcca1612d404fc0e3b594ed"
   },
   "source": [
    "It takes 3 times longer for the computation _pairwise similarity_ for the dense matrix and the resulting matrices are the same:"
   ]
  },
  {
   "cell_type": "code",
   "execution_count": 16,
   "metadata": {
    "_uuid": "c804340f08f3928fb07f886f05bb505f789e6fe2"
   },
   "outputs": [
    {
     "data": {
      "text/plain": [
       "True"
      ]
     },
     "execution_count": 16,
     "metadata": {},
     "output_type": "execute_result"
    }
   ],
   "source": [
    "np.allclose(similarities , similarity, atol=1e-18)"
   ]
  },
  {
   "cell_type": "code",
   "execution_count": 17,
   "metadata": {
    "_uuid": "a6785d1f6908d03d87bcf0e97c16683e5243ef8b",
    "collapsed": true
   },
   "outputs": [],
   "source": [
    "def get_pairwise_similarity(user_item_rating_matrix, type='user'):\n",
    "    '''\n",
    "    Given the user-item ranking matrix \n",
    "    Returns 'item' vs. 'user' based similarity matrix.\n",
    "    '''\n",
    "    if type == 'user':\n",
    "        train_sparse = sp.csr_matrix(user_item_rating_matrix)\n",
    "        similarity = cosine_similarity(train_sparse)\n",
    "\n",
    "\n",
    "    elif type == 'item':\n",
    "        train_sparse = sp.csr_matrix(user_item_rating_matrix.T)\n",
    "        similarity = cosine_similarity(train_sparse)\n",
    "    return similarity"
   ]
  },
  {
   "cell_type": "code",
   "execution_count": 18,
   "metadata": {
    "_uuid": "7eb7a07f54590f08b39c330596023db989b9f359"
   },
   "outputs": [
    {
     "name": "stdout",
     "output_type": "stream",
     "text": [
      "--- 16.0721178055 seconds for sparse implementation ---\n"
     ]
    }
   ],
   "source": [
    "st = time.time()\n",
    "\n",
    "item_sims = get_pairwise_similarity(train_data_matrix, 'item')\n",
    "user_sims = get_pairwise_similarity(train_data_matrix, 'user')\n",
    "print(\"--- %s seconds for sparse implementation ---\" %(time.time()-st))"
   ]
  },
  {
   "cell_type": "markdown",
   "metadata": {
    "_uuid": "70505bc4cfce4897659d14b5ae3c74f997315551"
   },
   "source": [
    "# Bias-subtracted CF"
   ]
  },
  {
   "cell_type": "markdown",
   "metadata": {
    "_uuid": "0d4d2c4184212a2b7757b4ab8c4f783482cc6f64"
   },
   "source": [
    "\n",
    "As we saw in the distribution of the average ratings for user, some users tend to rank higher, thus higher average rating. The same applies for books too. Therefore, the relative difference or deviation of a rating from the mean rating is a better indicator of the preference of the book than the absolute values the same applies for books.   \n",
    "\n"
   ]
  },
  {
   "cell_type": "code",
   "execution_count": 19,
   "metadata": {
    "_uuid": "876877e65ffea06e102f3dcaf2aef4d7f2588a5b",
    "collapsed": true
   },
   "outputs": [],
   "source": [
    "def predict_ratings(ratings, similarity, type='user'):\n",
    "    '''\n",
    "    Removing user/item tendencies for similiarities\n",
    "    Returns prediction using the mean centered ratings\n",
    "    '''\n",
    "    if type == 'user':\n",
    "        \n",
    "        mean_user_bias = ratings.mean(axis=1)\n",
    "        # new rating normalized by the difference from mean\n",
    "        ratings = (ratings - mean_user_bias[:, np.newaxis]).copy() \n",
    "        pred = similarity.dot(ratings) / np.array([np.abs(similarity).sum(axis=1)]).T\n",
    "        pred += mean_user_bias[:, np.newaxis]\n",
    "        \n",
    "    elif type == 'item':\n",
    "        \n",
    "        mean_item_bias = ratings.mean(axis=0)\n",
    "        # new rating normalized by the difference from mean\n",
    "        ratings = (ratings - mean_item_bias[np.newaxis, :]).copy()\n",
    "        \n",
    "        pred = ratings.dot(similarity) / np.array([np.abs(similarity).sum(axis=1)])\n",
    "        pred += mean_item_bias[np.newaxis, :]\n",
    "        \n",
    "        \n",
    "    return pred"
   ]
  },
  {
   "cell_type": "code",
   "execution_count": 20,
   "metadata": {
    "_uuid": "dfbdf53ce6aa37c29d2ddcd160197f13614d6d3c"
   },
   "outputs": [
    {
     "name": "stderr",
     "output_type": "stream",
     "text": [
      "/Users/admin/anaconda/lib/python2.7/site-packages/ipykernel_launcher.py:20: RuntimeWarning: invalid value encountered in divide\n"
     ]
    },
    {
     "name": "stdout",
     "output_type": "stream",
     "text": [
      "--- 234.626590014 seconds for sparse implementation ---\n"
     ]
    }
   ],
   "source": [
    "st = time.time()\n",
    "\n",
    "item_prediction = predict_ratings(train_data_matrix, item_sims, type='item')\n",
    "user_prediction = predict_ratings(train_data_matrix, user_sims, type='user')\n",
    "print(\"--- %s seconds for sparse implementation ---\" %(time.time()-st))"
   ]
  },
  {
   "cell_type": "code",
   "execution_count": 21,
   "metadata": {
    "_uuid": "c49dd0296473045f10c3ca93c79622071164bb38",
    "collapsed": true
   },
   "outputs": [],
   "source": [
    "user_prediction = nan_to_num(user_prediction)"
   ]
  },
  {
   "cell_type": "markdown",
   "metadata": {
    "_uuid": "2cef5efbe266a32eb4a3a3045e196f989e65b1c7"
   },
   "source": [
    "# Evaluation\n",
    "To evaluate the accuracy of our results, we use the Root Mean Squared Error(RMSE). This is basically the mean of the squared differences of our actual vs. prediction values. Then, we compute the squared root to get values on the same scale as our actual values.\n",
    "\n",
    "Also, for evalutation, we need to compare our predicteds ratings against the ratings that exist in the test dataset. Therefore, we should filter out all the zero elements in the prediction matrix. We use the following function:\n"
   ]
  },
  {
   "cell_type": "code",
   "execution_count": 22,
   "metadata": {
    "_uuid": "c904cb75151e7a11cbf5ea071cb9f1588a83711c",
    "collapsed": true
   },
   "outputs": [],
   "source": [
    "from sklearn.metrics import mean_squared_error\n",
    "\n",
    "def get_rmse(predict, actual):\n",
    "    '''\n",
    "    Computes root_mean_square_error for ratings in test dataset\n",
    "    '''\n",
    "    idx = actual.nonzero()\n",
    "    predict = predict[idx].flatten()\n",
    "    actual = actual[idx].flatten()\n",
    "    return sqrt(mean_squared_error(predict, actual))"
   ]
  },
  {
   "cell_type": "code",
   "execution_count": 23,
   "metadata": {
    "_uuid": "8f7a23ae1a0f9363012f6a471483d5889c3b18b7"
   },
   "outputs": [
    {
     "name": "stdout",
     "output_type": "stream",
     "text": [
      "User-based CF RMSE: 3.96244882469\n",
      "Item-based CF RMSE: 3.96305146704\n"
     ]
    },
    {
     "data": {
      "text/plain": [
       "4.733869791030884"
      ]
     },
     "execution_count": 23,
     "metadata": {},
     "output_type": "execute_result"
    }
   ],
   "source": [
    "st = time.time()\n",
    "\n",
    "print('User-based CF RMSE: ' + str(get_rmse(user_prediction, test_data_matrix)))\n",
    "print('Item-based CF RMSE: ' + str(get_rmse(item_prediction, test_data_matrix)))\n",
    "(time.time()-st)"
   ]
  },
  {
   "cell_type": "markdown",
   "metadata": {
    "_uuid": "fa068c4eb1aad2bec94461ae7936b82b02dd9b27"
   },
   "source": [
    "RMSE can be interpreted as the average error in estimation. Thus, $RMSE \\approx 4$ is quiet high, for the rating between 0 and 5. "
   ]
  },
  {
   "cell_type": "markdown",
   "metadata": {
    "_uuid": "56085505fbeb1f058fe4e42d1cb9e0808da1fe03"
   },
   "source": [
    "# $Top_{k}$  *CF*\n",
    "In the last attempt, to improve our prediction we can replace the comparision and filtering of all users by only using a subset of the most similar users. For this all we need to do is to find the subset of most similar users/items and use that instead of the full similarity matrix."
   ]
  },
  {
   "cell_type": "code",
   "execution_count": 24,
   "metadata": {
    "_uuid": "852dfcca613717028c01333a577d06b9dbb31232",
    "collapsed": true
   },
   "outputs": [],
   "source": [
    "def get_topk_similarity(similarity, k):\n",
    "    '''\n",
    "    Getting only the topk most similar items/users, given a similarity matrix\n",
    "    '''\n",
    "    top_ks = []\n",
    "    for i in similarity:\n",
    "        inds = i.argsort()[::-1][:k]\n",
    "        mask = np.zeros(i.shape)\n",
    "        mask[inds] = i[inds]\n",
    "        top_ks += [mask]\n",
    "        \n",
    "    top_ks = array(top_ks)\n",
    "    return top_ks"
   ]
  },
  {
   "cell_type": "code",
   "execution_count": 25,
   "metadata": {
    "_uuid": "1f917c16d7aeeb574ae4c6f79867a31f41fa4a37",
    "collapsed": true
   },
   "outputs": [],
   "source": [
    "item_topk_sims = get_topk_similarity(item_sims, 15)\n",
    "user_topk_sims = get_topk_similarity(user_sims, 15)"
   ]
  },
  {
   "cell_type": "code",
   "execution_count": 26,
   "metadata": {
    "_uuid": "3626526a860f8fba0e277167c43ad0da00d031c2"
   },
   "outputs": [
    {
     "name": "stderr",
     "output_type": "stream",
     "text": [
      "/Users/admin/anaconda/lib/python2.7/site-packages/ipykernel_launcher.py:20: RuntimeWarning: invalid value encountered in divide\n"
     ]
    }
   ],
   "source": [
    "item_topk_pred = predict_ratings(train_data_matrix, item_topk_sims, type='item')\n",
    "user_topk_pred = predict_ratings(train_data_matrix, user_topk_sims, type='user')"
   ]
  },
  {
   "cell_type": "code",
   "execution_count": 27,
   "metadata": {
    "_uuid": "b45b6a712abe4fff9ef37f2f67236d1f9412d254"
   },
   "outputs": [
    {
     "name": "stdout",
     "output_type": "stream",
     "text": [
      "Item-based Top 15 CF RMSE: 3.96360554788\n",
      "User-based Top 15 CF RMSE: 3.96401059594\n"
     ]
    }
   ],
   "source": [
    "item_topk_pred = nan_to_num(item_topk_pred)\n",
    "user_topk_pred = nan_to_num(user_topk_pred)\n",
    "\n",
    "print('Item-based Top 15 CF RMSE: ' + str(get_rmse(item_topk_pred, test_data_matrix)))\n",
    "print('User-based Top 15 CF RMSE: ' + str(get_rmse(user_topk_pred, test_data_matrix)))"
   ]
  },
  {
   "cell_type": "markdown",
   "metadata": {
    "_uuid": "e5ba3f28c3142bdc368a04b5e57284fb6cac279b"
   },
   "source": [
    "To get the optimal value of the number of similar items we evaluate the RMSE for different number of similars and comparing it for training vs. test set. \n"
   ]
  },
  {
   "cell_type": "code",
   "execution_count": 28,
   "metadata": {
    "_uuid": "a509cae1e7ec480e937e5aa7e91bfa2438a98570"
   },
   "outputs": [
    {
     "name": "stderr",
     "output_type": "stream",
     "text": [
      "/Users/admin/anaconda/lib/python2.7/site-packages/ipykernel_launcher.py:20: RuntimeWarning: invalid value encountered in divide\n"
     ]
    }
   ],
   "source": [
    "ks = [5, 10, 15, 30, 50, 100]\n",
    "\n",
    "item_train_rmse = [] \n",
    "item_test_rmse = [] \n",
    "\n",
    "for k in ks:\n",
    "    topk_item_similarity = get_topk_similarity(item_sims, k=k)\n",
    "    \n",
    "    item_pred = predict_ratings(train_data_matrix, topk_item_similarity, type='item')    \n",
    "    item_pred = nan_to_num(item_pred)\n",
    "\n",
    "    item_train_rmse += [get_rmse(item_pred, train_data_matrix)]\n",
    "    item_test_rmse += [get_rmse(item_pred, test_data_matrix)]  \n"
   ]
  },
  {
   "cell_type": "code",
   "execution_count": 29,
   "metadata": {
    "_uuid": "de2a8d7d19bf9ef0fa913aa3ec2d77db2322c4b4"
   },
   "outputs": [
    {
     "name": "stderr",
     "output_type": "stream",
     "text": [
      "/Users/admin/anaconda/lib/python2.7/site-packages/ipykernel_launcher.py:20: RuntimeWarning: invalid value encountered in divide\n"
     ]
    }
   ],
   "source": [
    "ks += [max(ks)+20]\n",
    "item_pred = predict_ratings(train_data_matrix, item_sims, type='item')    \n",
    "item_pred = nan_to_num(item_pred)\n",
    "item_train_rmse += [get_rmse(item_pred, train_data_matrix)]\n",
    "item_test_rmse += [get_rmse(item_pred, test_data_matrix)]"
   ]
  },
  {
   "cell_type": "code",
   "execution_count": 32,
   "metadata": {
    "_uuid": "c410b11e578d364fed5b32d49835647bca0fc127"
   },
   "outputs": [
    {
     "data": {
      "image/png": "[encoded data removed]",
      "text/plain": [
       "<matplotlib.figure.Figure at 0x110be97d0>"
      ]
     },
     "metadata": {},
     "output_type": "display_data"
    }
   ],
   "source": [
    "xticks = [str(k) for k in ks[:4]]\n",
    "xticks[-1] = 'all'\n",
    "\n",
    "fig =plt.figure(figsize=(6, 6))\n",
    "\n",
    "ax = fig.gca\n",
    "plt.plot(ks[:5], item_train_rmse[:5], label='Item-based train', alpha=0.5, linewidth=5)\n",
    "plt.plot(ks[:5], item_test_rmse[:5], label='Item-based test', linewidth=5)\n",
    "\n",
    "plt.legend(loc='best', fontsize=20)\n",
    "plt.xticks(fontsize=14);\n",
    "plt.yticks(fontsize=14);\n",
    "\n",
    "plt.xticks(ks[:5], xticks, rotation='vertical')\n",
    "\n",
    "plt.xlabel('k', fontsize=20);\n",
    "plt.ylabel('RMSE', fontsize=20);\n",
    "plt.grid(0)"
   ]
  },
  {
   "cell_type": "markdown",
   "metadata": {
    "_uuid": "2f4f76ba8d013833bc2db63de320f5247436ae66"
   },
   "source": [
    "As can be seen the best RMSE for test set remains around $\\sim 4$ and does not change with the number of similar items, while it's increasing for training set, a clear indicator of overfitting.\n",
    "\n"
   ]
  },
  {
   "cell_type": "markdown",
   "metadata": {
    "_uuid": "7a0fad2b2e47af3d928425ba337e6381d5406746"
   },
   "source": [
    "## Model-based Collaborative Filtering\n",
    "\n",
    "Model-based CF methods are mostly build on the power of the matrix factorization (MF) technique, which refers to a class of dimensionality reduction algorithms and thus extremely useful in real-world cases with high-dimensionality and highly sparse data. \n",
    "\n",
    "__Singular Value Decomposition(SVD)__ is one of the simplest types of MF. Here we're going to try that.  "
   ]
  },
  {
   "cell_type": "code",
   "execution_count": 33,
   "metadata": {
    "_uuid": "22540611104b5d249c7442e59f8ce3b1fdf27c25",
    "collapsed": true
   },
   "outputs": [],
   "source": [
    "import scipy.sparse as sp\n",
    "from scipy.sparse.linalg import svds\n",
    "'''\n",
    "k in the svds module corresponds the number of latent variable \n",
    "or the new dimension used to build the feature space\n",
    "'''\n",
    "u, s, vt = svds(train_data_matrix, k = 30)\n",
    "s_diag_matrix = np.diag(s)\n",
    "rate_pred_matrix = np.dot(np.dot(u, s_diag_matrix), vt)"
   ]
  },
  {
   "cell_type": "code",
   "execution_count": 34,
   "metadata": {
    "_uuid": "63b38f2217a2a07ebe98a8d956dac0cf3c2cb782"
   },
   "outputs": [
    {
     "name": "stdout",
     "output_type": "stream",
     "text": [
      "Model Based SVD Train MSE for K=30 is 3.96400528751: \n",
      "Model Based SVD Test MSE for K=30 is 3.74519594487: \n"
     ]
    }
   ],
   "source": [
    "print(\"Model Based SVD Train MSE for K=30 is %s: \" %str(get_rmse(rate_pred_matrix, test_data_matrix)))\n",
    "print('Model Based SVD Test MSE for K=30 is %s: ' %str(get_rmse(rate_pred_matrix, train_data_matrix)))"
   ]
  },
  {
   "cell_type": "code",
   "execution_count": 35,
   "metadata": {
    "_uuid": "90110038ee6d4c1045092fb557100d13ec0f02cd",
    "collapsed": true
   },
   "outputs": [],
   "source": [
    "def get_svd_rate_prediction(rating, rank):\n",
    "    u, s, vt = svds(rating, k = rank)\n",
    "    s_diag_matrix = np.diag(s)\n",
    "    rate_pred_matrix = np.dot(np.dot(u, s_diag_matrix), vt)\n",
    "    return rate_pred_matrix"
   ]
  },
  {
   "cell_type": "code",
   "execution_count": 36,
   "metadata": {
    "_uuid": "ec09de0e833db4fc306fa2a99f60501032b5f3ac"
   },
   "outputs": [],
   "source": [
    "latents = [10, 20, 40, 80, 150, 250]\n",
    "svd_train_rmse = []\n",
    "svd_test_rmse = []\n",
    "\n",
    "for k in latents:\n",
    "   \n",
    "    rating_svd_k = get_svd_rate_prediction(train_data_matrix, k)\n",
    "    svd_train_rmse += [get_rmse(rating_svd_k, train_data_matrix)]\n",
    "    svd_test_rmse += [get_rmse(rating_svd_k, test_data_matrix)]"
   ]
  },
  {
   "cell_type": "code",
   "execution_count": 37,
   "metadata": {
    "_uuid": "886f1aba2d26115d917b9033ed9e24eb761db9f0"
   },
   "outputs": [
    {
     "data": {
      "image/png": "[encoded data removed]",
      "text/plain": [
       "<matplotlib.figure.Figure at 0x110370fd0>"
      ]
     },
     "metadata": {},
     "output_type": "display_data"
    }
   ],
   "source": [
    "fig =plt.figure(figsize=(6, 6))\n",
    "\n",
    "ax = fig.gca\n",
    "plt.plot(latents, svd_train_rmse, label='SVD train', alpha=0.5, linewidth=5)\n",
    "plt.plot(latents, svd_test_rmse, label='SVD test', linewidth=5)\n",
    "\n",
    "plt.legend(loc='best', fontsize=20)\n",
    "plt.xticks(fontsize=14);\n",
    "plt.yticks(fontsize=14);\n",
    "\n",
    "plt.xlabel('Latent Dim', fontsize=20);\n",
    "plt.ylabel('RMSE', fontsize=20);\n",
    "plt.grid(0)"
   ]
  },
  {
   "cell_type": "markdown",
   "metadata": {
    "_uuid": "0304bafd3c97203c5222e2c46e1f9a7f9fb82c19",
    "collapsed": true
   },
   "source": [
    "Using higher number of latent variables, seems to decrease the RMSE for training set while test set is not changing much, clear sign of overfitting."
   ]
  },
  {
   "cell_type": "markdown",
   "metadata": {
    "_uuid": "1081617673378588b1878c02749baa5c9c050b26"
   },
   "source": [
    "Another method from the Matrix factorizaion family, used in known as the __Alternating Least Square method__. You can learn about it in this blog: https://bugra.github.io/work/notes/2014-04-19/alternating-least-squares-method-for-collaborative-filtering/  \n",
    "\n",
    "I'm going to use the Spark implementation of the Alternating Least Square included as ALS in mllib.recommendation. I'm using this both to utilize Sparks fast data processing capabilities, which in turns enables us to use the entire training dataset. rather than the subsets we were limited to use in the previous methods."
   ]
  },
  {
   "cell_type": "markdown",
   "metadata": {
    "_uuid": "aa957dd5a8932a156b4cb99315da31f74bc1b728"
   },
   "source": [
    "To run the ALS, we need to know the parameters of the model:\n",
    "- rank is the number of latent factors in the model.\n",
    "- iterations is the number of iterations to run.\n",
    "- lambda specifies the regularization parameter in ALS."
   ]
  },
  {
   "cell_type": "markdown",
   "metadata": {
    "_uuid": "e349569f9c7aa04642648f8074dcbd3ec826f6f6"
   },
   "source": [
    "First thing we need to create a SparkConf object which sets the configuration for a Spark application and set various Spark parameters as key-value pairs.\n",
    " "
   ]
  },
  {
   "cell_type": "code",
   "execution_count": 38,
   "metadata": {
    "_uuid": "f3bb3146c793d6916403ae2869624ec09317e3db",
    "collapsed": true
   },
   "outputs": [],
   "source": [
    "from pyspark import SparkConf, SparkContext\n",
    "conf = SparkConf().setMaster(\"local\").setAppName(\"BookRating\")\n",
    "sc = SparkContext(conf = conf)"
   ]
  },
  {
   "cell_type": "markdown",
   "metadata": {
    "_uuid": "9f641864e80081f6ef244e2c13e23d12c5097a02"
   },
   "source": [
    "Then we load the rating datafram into a spark RDD object."
   ]
  },
  {
   "cell_type": "code",
   "execution_count": 39,
   "metadata": {
    "_uuid": "5f7b790b3316a220ff1bbb0fe69a6d800bf4bddc"
   },
   "outputs": [
    {
     "data": {
      "text/plain": [
       "[Row(book_id=1, user_id=314, rating=5),\n",
       " Row(book_id=1, user_id=439, rating=3),\n",
       " Row(book_id=1, user_id=588, rating=5),\n",
       " Row(book_id=1, user_id=1169, rating=4),\n",
       " Row(book_id=1, user_id=1185, rating=4)]"
      ]
     },
     "execution_count": 39,
     "metadata": {},
     "output_type": "execute_result"
    }
   ],
   "source": [
    "from pyspark.sql import SQLContext\n",
    "sqlContext = SQLContext(sc)\n",
    "\n",
    "df = sqlContext.createDataFrame(df_rates)\n",
    "\n",
    "df.registerTempTable(\"df\")\n",
    "\n",
    "rdd = df.rdd\n",
    "'''\n",
    "Have a look at the RDD object\n",
    "'''\n",
    "rdd.take(5)"
   ]
  },
  {
   "cell_type": "code",
   "execution_count": 40,
   "metadata": {
    "_uuid": "245bad5d34b9ced4522ee2340a279a4af747d94e",
    "collapsed": true
   },
   "outputs": [],
   "source": [
    "''' \n",
    "Change the order to have user-item dataframe and later matrix?\n",
    "'''\n",
    "ratings_data = rdd.map(lambda tokens: (tokens[1],tokens[0],tokens[2])).cache()"
   ]
  },
  {
   "cell_type": "markdown",
   "metadata": {
    "_uuid": "f4ebcfc5ecdc1bd0bc954fb1d4234ee4c1905098"
   },
   "source": [
    "Split the data to training, validation and test sets"
   ]
  },
  {
   "cell_type": "code",
   "execution_count": 41,
   "metadata": {
    "_uuid": "c1651de3d8234ee20f02dde2d5340b0be27800f4",
    "collapsed": true
   },
   "outputs": [],
   "source": [
    "training_RDD, validation_RDD, test_RDD = ratings_data.randomSplit([6, 2, 2], seed=0L)\n",
    "validation_for_predict_RDD = validation_RDD.map(lambda x: (x[0], x[1]))\n",
    "test_for_predict_RDD = test_RDD.map(lambda x: (x[0], x[1]))"
   ]
  },
  {
   "cell_type": "code",
   "execution_count": 42,
   "metadata": {
    "_uuid": "f499f0ef4a293e836a483d34e89f21e5046b9b04",
    "collapsed": true
   },
   "outputs": [],
   "source": [
    "from pyspark.mllib.recommendation import ALS"
   ]
  },
  {
   "cell_type": "code",
   "execution_count": 43,
   "metadata": {
    "_uuid": "add3d7934b279e09aa8e9a60709facef1b1a066c"
   },
   "outputs": [
    {
     "name": "stdout",
     "output_type": "stream",
     "text": [
      "For reguliaziation paramter 0.1 , rank 4 the RMSE is 0.93744760674\n",
      "For reguliaziation paramter 0.1 , rank 8 the RMSE is 0.946134618708\n",
      "For reguliaziation paramter 0.1 , rank 16 the RMSE is 0.941025827545\n",
      "For reguliaziation paramter 0.1 , rank 20 the RMSE is 0.934376873361\n",
      "For reguliaziation paramter 0.1 , rank 40 the RMSE is 0.919200664761\n",
      "For reguliaziation paramter 0.1 , rank 60 the RMSE is 0.910777600038\n",
      "For reguliaziation paramter 0.1 , rank 80 the RMSE is 0.907603138302\n",
      "For reguliaziation paramter 0.1 , rank 100 the RMSE is 0.90561967745\n",
      "The best model was trained with rank 100\n"
     ]
    }
   ],
   "source": [
    "seed = 5L\n",
    "iterations = 10\n",
    "reg = 0.1\n",
    "ranks = [4, 8, 16, 20, 40, 60, 80, 100]\n",
    "# errors = [0, 0, 0]\n",
    "err = 0\n",
    "tolerance = 0.02\n",
    "\n",
    "min_error = float('inf')\n",
    "best_rank = -1\n",
    "best_iteration = -1\n",
    "best_reg = -1\n",
    "errors = np.zeros(len(ranks))\n",
    "for rank in ranks:\n",
    "    model = ALS.train(training_RDD, rank, seed=seed, iterations=iterations,\n",
    "                      lambda_=reg)\n",
    "    predictions = model.predictAll(validation_for_predict_RDD).map(lambda r: ((r[0], r[1]), r[2]))\n",
    "    rates_and_preds = validation_RDD.map(lambda r: ((int(r[0]), int(r[1])), float(r[2]))).join(predictions)\n",
    "    error = math.sqrt(rates_and_preds.map(lambda r: (r[1][0] - r[1][1])**2).mean())\n",
    "    errors[err] = error\n",
    "    err += 1\n",
    "    print 'For reguliaziation paramter %s , rank %s the RMSE is %s' % (reg, rank, error)\n",
    "    if error < min_error:\n",
    "        min_error = error\n",
    "        best_rank = rank\n",
    "        best_reg = reg\n",
    "\n",
    "print 'The best model was trained with rank %s' % best_rank"
   ]
  },
  {
   "cell_type": "code",
   "execution_count": 44,
   "metadata": {
    "_uuid": "f7599e838cad6e3380c7b010192788bbada4ded2"
   },
   "outputs": [
    {
     "name": "stdout",
     "output_type": "stream",
     "text": [
      "For testing data the RMSE is 0.937819355122\n"
     ]
    }
   ],
   "source": [
    "model = ALS.train(training_RDD, 4, seed=seed, iterations=iterations,\n",
    "                      lambda_=reg)\n",
    "predictions = model.predictAll(test_for_predict_RDD).map(lambda r: ((r[0], r[1]), r[2]))\n",
    "rates_and_preds = test_RDD.map(lambda r: ((int(r[0]), int(r[1])), float(r[2]))).join(predictions)\n",
    "error = math.sqrt(rates_and_preds.map(lambda r: (r[1][0] - r[1][1])**2).mean())\n",
    "    \n",
    "print 'For testing data the RMSE is %s' % (error)"
   ]
  },
  {
   "cell_type": "code",
   "execution_count": 45,
   "metadata": {
    "_uuid": "22e820d0bf7b72463a6ab6f39b9c2dab15b9a6cd"
   },
   "outputs": [
    {
     "name": "stdout",
     "output_type": "stream",
     "text": [
      "51655\n",
      "10000\n"
     ]
    }
   ],
   "source": [
    "print(model.userFeatures().count())\n",
    "print(model.productFeatures().count())"
   ]
  },
  {
   "cell_type": "markdown",
   "metadata": {
    "_uuid": "a7baf9d85b433ae1c34ea3c1229c17ea621d6fe7"
   },
   "source": [
    "We will use __productFeatures matrix__ to build an item-item collaborative filtering recommendation model."
   ]
  },
  {
   "cell_type": "markdown",
   "metadata": {
    "_uuid": "e923f3176102516a02b18012070d56c7ef5987aa"
   },
   "source": [
    "# Building book recommenders"
   ]
  },
  {
   "cell_type": "markdown",
   "metadata": {
    "_uuid": "cb16a527147153229b2e692e8e0e8f14a876a712"
   },
   "source": [
    "First see what information do we get about the book:"
   ]
  },
  {
   "cell_type": "code",
   "execution_count": 47,
   "metadata": {
    "_uuid": "936e7c0b6bc0391f81ba6e2d3568f16171154b1f"
   },
   "outputs": [
    {
     "data": {
      "text/html": [
       "<div>\n",
       "<style>\n",
       "    .dataframe thead tr:only-child th {\n",
       "        text-align: right;\n",
       "    }\n",
       "\n",
       "    .dataframe thead th {\n",
       "        text-align: left;\n",
       "    }\n",
       "\n",
       "    .dataframe tbody tr th {\n",
       "        vertical-align: top;\n",
       "    }\n",
       "</style>\n",
       "<table border=\"1\" class=\"dataframe\">\n",
       "  <thead>\n",
       "    <tr style=\"text-align: right;\">\n",
       "      <th></th>\n",
       "      <th>id</th>\n",
       "      <th>book_id</th>\n",
       "      <th>best_book_id</th>\n",
       "      <th>work_id</th>\n",
       "      <th>books_count</th>\n",
       "      <th>isbn</th>\n",
       "      <th>isbn13</th>\n",
       "      <th>authors</th>\n",
       "      <th>original_publication_year</th>\n",
       "      <th>original_title</th>\n",
       "      <th>...</th>\n",
       "      <th>ratings_count</th>\n",
       "      <th>work_ratings_count</th>\n",
       "      <th>work_text_reviews_count</th>\n",
       "      <th>ratings_1</th>\n",
       "      <th>ratings_2</th>\n",
       "      <th>ratings_3</th>\n",
       "      <th>ratings_4</th>\n",
       "      <th>ratings_5</th>\n",
       "      <th>image_url</th>\n",
       "      <th>small_image_url</th>\n",
       "    </tr>\n",
       "  </thead>\n",
       "  <tbody>\n",
       "    <tr>\n",
       "      <th>0</th>\n",
       "      <td>1</td>\n",
       "      <td>2767052</td>\n",
       "      <td>2767052</td>\n",
       "      <td>2792775</td>\n",
       "      <td>272</td>\n",
       "      <td>439023483</td>\n",
       "      <td>9.780439e+12</td>\n",
       "      <td>Suzanne Collins</td>\n",
       "      <td>2008.0</td>\n",
       "      <td>The Hunger Games</td>\n",
       "      <td>...</td>\n",
       "      <td>4780653</td>\n",
       "      <td>4942365</td>\n",
       "      <td>155254</td>\n",
       "      <td>66715</td>\n",
       "      <td>127936</td>\n",
       "      <td>560092</td>\n",
       "      <td>1481305</td>\n",
       "      <td>2706317</td>\n",
       "      <td>https://images.gr-assets.com/books/1447303603m...</td>\n",
       "      <td>https://images.gr-assets.com/books/1447303603s...</td>\n",
       "    </tr>\n",
       "    <tr>\n",
       "      <th>1</th>\n",
       "      <td>2</td>\n",
       "      <td>3</td>\n",
       "      <td>3</td>\n",
       "      <td>4640799</td>\n",
       "      <td>491</td>\n",
       "      <td>439554934</td>\n",
       "      <td>9.780440e+12</td>\n",
       "      <td>J.K. Rowling, Mary GrandPré</td>\n",
       "      <td>1997.0</td>\n",
       "      <td>Harry Potter and the Philosopher's Stone</td>\n",
       "      <td>...</td>\n",
       "      <td>4602479</td>\n",
       "      <td>4800065</td>\n",
       "      <td>75867</td>\n",
       "      <td>75504</td>\n",
       "      <td>101676</td>\n",
       "      <td>455024</td>\n",
       "      <td>1156318</td>\n",
       "      <td>3011543</td>\n",
       "      <td>https://images.gr-assets.com/books/1474154022m...</td>\n",
       "      <td>https://images.gr-assets.com/books/1474154022s...</td>\n",
       "    </tr>\n",
       "  </tbody>\n",
       "</table>\n",
       "<p>2 rows × 23 columns</p>\n",
       "</div>"
      ],
      "text/plain": [
       "   id  book_id  best_book_id  work_id  books_count       isbn        isbn13  \\\n",
       "0   1  2767052       2767052  2792775          272  439023483  9.780439e+12   \n",
       "1   2        3             3  4640799          491  439554934  9.780440e+12   \n",
       "\n",
       "                       authors  original_publication_year  \\\n",
       "0              Suzanne Collins                     2008.0   \n",
       "1  J.K. Rowling, Mary GrandPré                     1997.0   \n",
       "\n",
       "                             original_title  \\\n",
       "0                          The Hunger Games   \n",
       "1  Harry Potter and the Philosopher's Stone   \n",
       "\n",
       "                         ...                         ratings_count  \\\n",
       "0                        ...                               4780653   \n",
       "1                        ...                               4602479   \n",
       "\n",
       "  work_ratings_count  work_text_reviews_count  ratings_1  ratings_2  \\\n",
       "0            4942365                   155254      66715     127936   \n",
       "1            4800065                    75867      75504     101676   \n",
       "\n",
       "   ratings_3  ratings_4  ratings_5  \\\n",
       "0     560092    1481305    2706317   \n",
       "1     455024    1156318    3011543   \n",
       "\n",
       "                                           image_url  \\\n",
       "0  https://images.gr-assets.com/books/1447303603m...   \n",
       "1  https://images.gr-assets.com/books/1474154022m...   \n",
       "\n",
       "                                     small_image_url  \n",
       "0  https://images.gr-assets.com/books/1447303603s...  \n",
       "1  https://images.gr-assets.com/books/1474154022s...  \n",
       "\n",
       "[2 rows x 23 columns]"
      ]
     },
     "execution_count": 47,
     "metadata": {},
     "output_type": "execute_result"
    }
   ],
   "source": [
    "df_books = pd.read_csv('./input/'+'books.csv')\n",
    "df_books.head(2)"
   ]
  },
  {
   "cell_type": "code",
   "execution_count": 48,
   "metadata": {
    "_uuid": "e3e5ad48a3bc8104beb77fd6119f7d0c570222b7",
    "collapsed": true
   },
   "outputs": [],
   "source": [
    "''' \n",
    "Remember that to build the rating matrices we converted indices to start from zero\n",
    "Thus we first convert the book_id s to be on the same scale\n",
    "'''\n",
    "books_info = df_books['book_id'].apply(lambda l: l-1).tolist()"
   ]
  },
  {
   "cell_type": "markdown",
   "metadata": {
    "_uuid": "dfbeeb42d80d23d9f1318f884f27557834e02a71"
   },
   "source": [
    "# Books that have both rating and meta-data available \n",
    "\n",
    "We have book ids for the books in the rating dataframe and then books for which we have additoinal data available in book_df. "
   ]
  },
  {
   "cell_type": "code",
   "execution_count": 49,
   "metadata": {
    "_uuid": "486de0e59b0903d4bf26bb0ae3cd2e5754c8ef14"
   },
   "outputs": [
    {
     "data": {
      "text/html": [
       "<div>\n",
       "<style>\n",
       "    .dataframe thead tr:only-child th {\n",
       "        text-align: right;\n",
       "    }\n",
       "\n",
       "    .dataframe thead th {\n",
       "        text-align: left;\n",
       "    }\n",
       "\n",
       "    .dataframe tbody tr th {\n",
       "        vertical-align: top;\n",
       "    }\n",
       "</style>\n",
       "<table border=\"1\" class=\"dataframe\">\n",
       "  <thead>\n",
       "    <tr style=\"text-align: right;\">\n",
       "      <th></th>\n",
       "      <th>book_id</th>\n",
       "      <th>user_id</th>\n",
       "      <th>rating</th>\n",
       "    </tr>\n",
       "  </thead>\n",
       "  <tbody>\n",
       "    <tr>\n",
       "      <th>0</th>\n",
       "      <td>1</td>\n",
       "      <td>314</td>\n",
       "      <td>5</td>\n",
       "    </tr>\n",
       "    <tr>\n",
       "      <th>1</th>\n",
       "      <td>1</td>\n",
       "      <td>439</td>\n",
       "      <td>3</td>\n",
       "    </tr>\n",
       "  </tbody>\n",
       "</table>\n",
       "</div>"
      ],
      "text/plain": [
       "   book_id  user_id  rating\n",
       "0        1      314       5\n",
       "1        1      439       3"
      ]
     },
     "execution_count": 49,
     "metadata": {},
     "output_type": "execute_result"
    }
   ],
   "source": [
    "df_rates.head(2)"
   ]
  },
  {
   "cell_type": "code",
   "execution_count": 50,
   "metadata": {
    "_uuid": "6d126fab3d062e02b14cbd837520fb4587f4beae",
    "collapsed": true
   },
   "outputs": [],
   "source": [
    "books_w_data = pd.merge(df_rates, df_books, on='book_id')"
   ]
  },
  {
   "cell_type": "code",
   "execution_count": 51,
   "metadata": {
    "_uuid": "ec83d57fbf27444e0213c65caa347ea7be65ea4e"
   },
   "outputs": [
    {
     "name": "stdout",
     "output_type": "stream",
     "text": [
      "Only 812 books have both rating and meta-data available.\n"
     ]
    }
   ],
   "source": [
    "common_bookids = books_w_data['book_id'].unique().tolist()\n",
    "\n",
    "print(\"Only %s books have both rating and meta-data available.\"%str(len(common_bookids)))"
   ]
  },
  {
   "cell_type": "code",
   "execution_count": 52,
   "metadata": {
    "_uuid": "f74906f7716cc976ed59514d894efffba299990c",
    "collapsed": true
   },
   "outputs": [],
   "source": [
    "'''\n",
    "Dict to map book_ids to books names\n",
    "'''\n",
    "book_names_dict = dict(zip(books_w_data.book_id.apply(lambda l: l-1), books_w_data.original_title))"
   ]
  },
  {
   "cell_type": "markdown",
   "metadata": {
    "_uuid": "d089085184c29bd804b26c36ce21ad65d4b94fa5"
   },
   "source": [
    "Let's look at a example, I chose book_id = 2657, which happens to be one of my faviorite books of all times."
   ]
  },
  {
   "cell_type": "code",
   "execution_count": 168,
   "metadata": {
    "_uuid": "97309a6a986177c3ed9b4136cb70a9c27c0c1168"
   },
   "outputs": [
    {
     "name": "stdout",
     "output_type": "stream",
     "text": [
      "('Book:', 'To Kill a Mockingbird')\n"
     ]
    }
   ],
   "source": [
    "itemId = 2657-1  # subtract by 1 to match the mapping\n",
    "\n",
    "print(\"Book:\", book_names_dict[itemId])"
   ]
  },
  {
   "cell_type": "markdown",
   "metadata": {
    "_uuid": "e3af027f6be16fd1b654838f8c2f3100cab86a63"
   },
   "source": [
    "We can then get the feature vector in the space of latent feature:"
   ]
  },
  {
   "cell_type": "code",
   "execution_count": 62,
   "metadata": {
    "_uuid": "f39d97682c9d8c9064251a2462af054a5193f10c",
    "collapsed": true
   },
   "outputs": [],
   "source": [
    "itemFactor = np.asarray(model.productFeatures().lookup(itemId))[0]"
   ]
  },
  {
   "cell_type": "code",
   "execution_count": 55,
   "metadata": {
    "_uuid": "c923d81068182d1a2197b430aa6dbb0314e49e2c",
    "collapsed": true
   },
   "outputs": [],
   "source": [
    "def cosineSimilarity(vec1, vec2):\n",
    "    vec1 = np.asarray(vec1)\n",
    "    vec2 = np.asarray(vec2)\n",
    "    return cosine_similarity(vec1.reshape(1,-1), vec2.reshape(1,-1))[0][0]"
   ]
  },
  {
   "cell_type": "markdown",
   "metadata": {
    "_uuid": "7375f640cca4c8b6c1682c99571502571c76623d"
   },
   "source": [
    "Given the feature vector for this book, we can know compute it's similarity with all the other books in the dataset."
   ]
  },
  {
   "cell_type": "code",
   "execution_count": 56,
   "metadata": {
    "_uuid": "8cc7abdf5c122ad0ef8e89de7182037a76408d9b",
    "collapsed": true
   },
   "outputs": [],
   "source": [
    "def get_items_similarity(item_id, model=model, books_w_info=books_info):\n",
    "    '''\n",
    "    Takes as input: \n",
    "            a book_id (item_id)  \n",
    "            the trained ALS model (model)\n",
    "            and the list of books for which we have extra info (books_w_info)\n",
    "    Returns:\n",
    "            cosine similarity of the book_id to all the other books with the info\n",
    "    \n",
    "    '''\n",
    "    \n",
    "    itemFactor = np.asarray(model.productFeatures().lookup(item_id-1))[0]\n",
    "    return model.productFeatures().filter(lambda product: product[0] in books_w_info).map(lambda product:\n",
    "                                    (product[0], cosineSimilarity(product[1], itemFactor)))"
   ]
  },
  {
   "cell_type": "code",
   "execution_count": 58,
   "metadata": {
    "_uuid": "67dbeeb653d9b080a4156bc088ca0ebc9e8391ba",
    "collapsed": true
   },
   "outputs": [],
   "source": [
    "sims= get_items_similarity(itemId)"
   ]
  },
  {
   "cell_type": "code",
   "execution_count": 63,
   "metadata": {
    "_uuid": "14ab0261cf54da39333e8a9da82c1b4788760301"
   },
   "outputs": [
    {
     "data": {
      "text/plain": [
       "(811, [(1, 0.90642435178118186), (2, 0.79492329379876547)])"
      ]
     },
     "execution_count": 63,
     "metadata": {},
     "output_type": "execute_result"
    }
   ],
   "source": [
    "''' \n",
    "Number of items in the sims rdd\n",
    "'''\n",
    "sims.count(), sims.take(2)"
   ]
  },
  {
   "cell_type": "markdown",
   "metadata": {
    "_uuid": "5222c678ea6ae2f785081e525ecd1825b744ea45"
   },
   "source": [
    "For the similar books we can look at some further meta-data/stats info. Here we're gonna look at:\n",
    "    1. Book title \n",
    "    2. Number of rating the book has recieved (populatity)\n",
    "    3. Average rating for the book"
   ]
  },
  {
   "cell_type": "code",
   "execution_count": 64,
   "metadata": {
    "_uuid": "25b667a97ee2db5ee720fda17056914c51fa1717",
    "collapsed": true
   },
   "outputs": [],
   "source": [
    "def get_counts_and_averages(ID_and_ratings_tuple):\n",
    "    '''\n",
    "    given the movie: ratings RDD\n",
    "    returns: (movies_id, number of ratings, average rating)\n",
    "    '''\n",
    "    nratings = len(ID_and_ratings_tuple[1])\n",
    "    return ID_and_ratings_tuple[0], (nratings, float(sum(x for x in ID_and_ratings_tuple[1]))/nratings)"
   ]
  },
  {
   "cell_type": "code",
   "execution_count": 65,
   "metadata": {
    "_uuid": "51c053c429b7e71ba983f080fe7f4d36ec738406",
    "collapsed": true
   },
   "outputs": [],
   "source": [
    "def get_movie_id_count_average_ratings_allbooks(ratings_data):\n",
    "    \n",
    "    ## 1) movie ratings RDD\n",
    "    movie_ID_with_ratings_RDD = ratings_data.map(lambda x: (x[1], x[2])).groupByKey()\n",
    "\n",
    "    ## 2) apply function to get count/average\n",
    "    movie_ID_with_count_avg_RDD = movie_ID_with_ratings_RDD.map(get_counts_and_averages)\n",
    "\n",
    "    return movie_ID_with_count_avg_RDD"
   ]
  },
  {
   "cell_type": "markdown",
   "metadata": {
    "_uuid": "10bd1de46d5dfe4935d7224bd8da5f7173c1e33f"
   },
   "source": [
    "Then to be more concise let's just focus on the top $K=10$ most simialr books, for each given book. \n",
    "Also we're gonna only consider books with at least 20 ratings. It the books is not popular enough we might as well not recommend it. "
   ]
  },
  {
   "cell_type": "code",
   "execution_count": 152,
   "metadata": {
    "_uuid": "14e89c2f5fb723636ba260e95081e1799ec4c380",
    "collapsed": true
   },
   "outputs": [],
   "source": [
    "def get_count_ave_rates_topk(all_sims, topk_books, ratings= ratings_data, min_rating_count=10):\n",
    "    '''\n",
    "    Given the similarity of each book to all the other books in the dataset\n",
    "    Return a list of topk most similar books\n",
    "    '''\n",
    "    n = min_rating_count\n",
    "    \n",
    "    movie_ID_with_count_avg_RDD = get_movie_id_count_average_ratings_allbooks(ratings)\n",
    "    ## 4) merge similarity count and average ratings\n",
    "    sims_count_ave = all_sims.join(movie_ID_with_count_avg_RDD)#(movie_rating_counts_RDD)\n",
    "\n",
    "    ## 5) getting the books with at least n=20 ratings\n",
    "    complete_sortedSims = sims_count_ave.filter(lambda r: r[1][1][0]>n)\\\n",
    "                    .takeOrdered(topk_books+1, key=lambda x: -x[1][0])\n",
    "    return complete_sortedSims"
   ]
  },
  {
   "cell_type": "code",
   "execution_count": 153,
   "metadata": {
    "_uuid": "4c69cd3ab68fcfe1cd1b66b5f42c38986b171f67",
    "collapsed": true
   },
   "outputs": [],
   "source": [
    "def get_df_topK_similars(book_id, top_k):\n",
    "    \n",
    "    all_sims= get_items_similarity(book_id)\n",
    "    top10s = get_count_ave_rates_topk(all_sims, top_k)\n",
    "    tops10_df = get_booktitle_image_4_topk(top10s)\n",
    "    return tops10_df"
   ]
  },
  {
   "cell_type": "code",
   "execution_count": 154,
   "metadata": {
    "_uuid": "a27c6ac750184c3ee2a854776ce864bcca6795de",
    "collapsed": true
   },
   "outputs": [],
   "source": [
    "def topk_ls_2_df(topk_sims):\n",
    "    itms_ids = zip(*topk_sims)[0]\n",
    "    sim_vals = zip(*zip(*topk_sims)[1])[0]\n",
    "    cnt_r = zip(*zip(*zip(*topk_sims)[1])[1])[0]\n",
    "    ave_r = zip(*zip(*zip(*topk_sims)[1])[1])[1]\n",
    "\n",
    "    ls_2_df = pd.DataFrame({'book_id':itms_ids, 'SimVal':sim_vals,\\\n",
    "                       'RevCount': cnt_r, 'RevAve':ave_r})\n",
    "\n",
    "    ls_2_df['book_id'] =ls_2_df['book_id'].apply(lambda l: l+1) \n",
    "    return ls_2_df"
   ]
  },
  {
   "cell_type": "code",
   "execution_count": 155,
   "metadata": {
    "_uuid": "ac66910f6d0cc6bb8c52138e6685dfd9feb814a3",
    "collapsed": true
   },
   "outputs": [],
   "source": [
    "def get_booktitle_image_4_topk(book_id, topk, book_info_df=df_books):\n",
    "    all_sims = get_items_similarity(book_id)\n",
    "    topk_sims = get_count_ave_rates_topk(all_sims, topk)\n",
    "    ls_2_tbl = topk_ls_2_df(topk_sims)\n",
    "    ls_2_tbl = ls_2_tbl.merge(book_info_df, on='book_id')[['image_url', 'title',  'RevAve', 'RevCount', 'SimVal']]\n",
    "    ls_2_tbl.columns = ['Image', 'Book Title', 'Average Rating', 'Rating Count', 'Similarity']\n",
    "    return ls_2_tbl"
   ]
  },
  {
   "cell_type": "code",
   "execution_count": 174,
   "metadata": {},
   "outputs": [
    {
     "name": "stdout",
     "output_type": "stream",
     "text": [
      "('Book:', \"Harry Potter and the Philosopher's Stone\")\n"
     ]
    }
   ],
   "source": [
    "'''\n",
    "Let's look at the top 10 books most similar to the \"Harry Potter and the Philosopher's Stone\"\n",
    "\n",
    "'''\n",
    "itemId = 3-1\n",
    "print(\"Book:\", book_names_dict[itemId]) # subtract by 1 to match the mapping"
   ]
  },
  {
   "cell_type": "code",
   "execution_count": 177,
   "metadata": {
    "_uuid": "7f41980a6a25c5f24a9bb19294578c38e2ff5d7f"
   },
   "outputs": [],
   "source": [
    "draw_df = get_booktitle_image_4_topk(itemId, 10)"
   ]
  },
  {
   "cell_type": "code",
   "execution_count": 178,
   "metadata": {},
   "outputs": [
    {
     "data": {
      "text/html": [
       "<table border=\"1\" class=\"dataframe\">\n",
       "  <thead>\n",
       "    <tr style=\"text-align: right;\">\n",
       "      <th></th>\n",
       "      <th>Image</th>\n",
       "      <th>Book Title</th>\n",
       "      <th>Average Rating</th>\n",
       "      <th>Rating Count</th>\n",
       "      <th>Similarity</th>\n",
       "    </tr>\n",
       "  </thead>\n",
       "  <tbody>\n",
       "    <tr>\n",
       "      <th>0</th>\n",
       "      <td><img src=\"https://images.gr-assets.com/books/1387141547m/2.jpg\"/></td>\n",
       "      <td>Harry Potter and the Order of the Phoenix (Harry Potter, #5)</td>\n",
       "      <td>4.240000</td>\n",
       "      <td>100</td>\n",
       "      <td>1.000000</td>\n",
       "    </tr>\n",
       "    <tr>\n",
       "      <th>1</th>\n",
       "      <td><img src=\"https://images.gr-assets.com/books/1372296329m/5091.jpg\"/></td>\n",
       "      <td>The Dark Tower (The Dark Tower, #7)</td>\n",
       "      <td>3.830000</td>\n",
       "      <td>100</td>\n",
       "      <td>0.999754</td>\n",
       "    </tr>\n",
       "    <tr>\n",
       "      <th>2</th>\n",
       "      <td><img src=\"https://images.gr-assets.com/books/1309198140m/3885.jpg\"/></td>\n",
       "      <td>The Taste of Home Cookbook</td>\n",
       "      <td>3.930000</td>\n",
       "      <td>100</td>\n",
       "      <td>0.999202</td>\n",
       "    </tr>\n",
       "    <tr>\n",
       "      <th>3</th>\n",
       "      <td><img src=\"https://images.gr-assets.com/books/1423329337m/275.jpg\"/></td>\n",
       "      <td>The Lover</td>\n",
       "      <td>4.030000</td>\n",
       "      <td>100</td>\n",
       "      <td>0.998928</td>\n",
       "    </tr>\n",
       "    <tr>\n",
       "      <th>4</th>\n",
       "      <td><img src=\"https://s.gr-assets.com/assets/nophoto/book/111x148-bcc042a9c91a29c1d680899eff700a03.png\"/></td>\n",
       "      <td>As the Crow Flies</td>\n",
       "      <td>3.590164</td>\n",
       "      <td>61</td>\n",
       "      <td>0.998653</td>\n",
       "    </tr>\n",
       "    <tr>\n",
       "      <th>5</th>\n",
       "      <td><img src=\"https://s.gr-assets.com/assets/nophoto/book/111x148-bcc042a9c91a29c1d680899eff700a03.png\"/></td>\n",
       "      <td>Don't Make Me Think: A Common Sense Approach to Web Usability</td>\n",
       "      <td>3.920000</td>\n",
       "      <td>100</td>\n",
       "      <td>0.998221</td>\n",
       "    </tr>\n",
       "    <tr>\n",
       "      <th>6</th>\n",
       "      <td><img src=\"https://images.gr-assets.com/books/1329611385m/3977.jpg\"/></td>\n",
       "      <td>Endymion (Hyperion Cantos, #3)</td>\n",
       "      <td>3.600000</td>\n",
       "      <td>100</td>\n",
       "      <td>0.997038</td>\n",
       "    </tr>\n",
       "    <tr>\n",
       "      <th>7</th>\n",
       "      <td><img src=\"https://images.gr-assets.com/books/1388611939m/9838.jpg\"/></td>\n",
       "      <td>The Bookseller of Kabul</td>\n",
       "      <td>3.357143</td>\n",
       "      <td>98</td>\n",
       "      <td>0.996804</td>\n",
       "    </tr>\n",
       "    <tr>\n",
       "      <th>8</th>\n",
       "      <td><img src=\"https://images.gr-assets.com/books/1497801490m/3758.jpg\"/></td>\n",
       "      <td>Casino Royale (James Bond, #1)</td>\n",
       "      <td>3.520000</td>\n",
       "      <td>100</td>\n",
       "      <td>0.996503</td>\n",
       "    </tr>\n",
       "    <tr>\n",
       "      <th>9</th>\n",
       "      <td><img src=\"https://images.gr-assets.com/books/1325422748m/1307.jpg\"/></td>\n",
       "      <td>Fire Sea (The Death Gate Cycle, #3)</td>\n",
       "      <td>3.200000</td>\n",
       "      <td>100</td>\n",
       "      <td>0.996262</td>\n",
       "    </tr>\n",
       "    <tr>\n",
       "      <th>10</th>\n",
       "      <td><img src=\"https://images.gr-assets.com/books/1400891315m/4662.jpg\"/></td>\n",
       "      <td>The Short Stories</td>\n",
       "      <td>4.410000</td>\n",
       "      <td>100</td>\n",
       "      <td>0.996046</td>\n",
       "    </tr>\n",
       "  </tbody>\n",
       "</table>"
      ],
      "text/plain": [
       "<IPython.core.display.HTML object>"
      ]
     },
     "execution_count": 178,
     "metadata": {},
     "output_type": "execute_result"
    }
   ],
   "source": [
    "from IPython.display import Image, HTML\n",
    "\n",
    "def path_to_image_html(path):\n",
    "    return '<img src=\"'+ path + '\"/>'\n",
    "pd.set_option('display.max_colwidth', -1)\n",
    "\n",
    "HTML(draw_df.to_html(escape=False ,formatters=dict(Image=path_to_image_html)))"
   ]
  },
  {
   "cell_type": "markdown",
   "metadata": {
    "_uuid": "905c13a2e0f3b95eb096db51f235f3e27998d6e0"
   },
   "source": [
    "Future work:\n",
    "    \n",
    "The most recent line of research on Recommender Systems, uses the new advances in the deep learning area, for instance, using __Deep Neural Network__ with autho-encoders: http://users.cecs.anu.edu.au/~u5098633/papers/www15.pdf As next step I'd like to give that a try an implement it using TensorFlow!"
   ]
  }
 ],
 "metadata": {
  "kernelspec": {
   "display_name": "Python 2",
   "language": "python",
   "name": "python2"
  },
  "language_info": {
   "codemirror_mode": {
    "name": "ipython",
    "version": 2
   },
   "file_extension": ".py",
   "mimetype": "text/x-python",
   "name": "python",
   "nbconvert_exporter": "python",
   "pygments_lexer": "ipython2",
   "version": "2.7.13"
  }
 },
 "nbformat": 4,
 "nbformat_minor": 1
}
